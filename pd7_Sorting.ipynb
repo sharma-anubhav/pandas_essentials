{
 "cells": [
  {
   "cell_type": "code",
   "execution_count": 1,
   "id": "c638f84e-f41e-4143-9f6a-1ec32c10af27",
   "metadata": {},
   "outputs": [],
   "source": [
    "import pandas as pd\n"
   ]
  },
  {
   "cell_type": "code",
   "execution_count": 2,
   "id": "8a10b98f-0d5b-4f6f-a691-2f4682e763ce",
   "metadata": {},
   "outputs": [],
   "source": [
    "# we are specifying the response ID as the index while loading the data itself. We can use the set_index method later on as well as shown below\n",
    "df = pd.read_csv('Data/survey_results_public.csv', index_col = \"ResponseId\")\n",
    "schema_df = pd.read_csv('Data/survey_results_schema.csv')"
   ]
  },
  {
   "cell_type": "code",
   "execution_count": 3,
   "id": "d68bae0e-a7f1-48dc-a3d7-2d932aefb2cc",
   "metadata": {},
   "outputs": [],
   "source": [
    "pd.set_option('display.max_columns', 79)\n",
    "pd.set_option('display.max_rows', 79)"
   ]
  },
  {
   "cell_type": "code",
   "execution_count": 4,
   "id": "6f5ef8dd-0274-43b3-9ae4-0a2be3b2a3b7",
   "metadata": {},
   "outputs": [
    {
     "data": {
      "text/html": [
       "<div>\n",
       "<style scoped>\n",
       "    .dataframe tbody tr th:only-of-type {\n",
       "        vertical-align: middle;\n",
       "    }\n",
       "\n",
       "    .dataframe tbody tr th {\n",
       "        vertical-align: top;\n",
       "    }\n",
       "\n",
       "    .dataframe thead th {\n",
       "        text-align: right;\n",
       "    }\n",
       "</style>\n",
       "<table border=\"1\" class=\"dataframe\">\n",
       "  <thead>\n",
       "    <tr style=\"text-align: right;\">\n",
       "      <th></th>\n",
       "      <th>fname</th>\n",
       "      <th>lname</th>\n",
       "      <th>email</th>\n",
       "      <th>age</th>\n",
       "    </tr>\n",
       "  </thead>\n",
       "  <tbody>\n",
       "    <tr>\n",
       "      <th>0</th>\n",
       "      <td>Anubhav</td>\n",
       "      <td>Sharma</td>\n",
       "      <td>anubhav@gmail.com</td>\n",
       "      <td>1</td>\n",
       "    </tr>\n",
       "    <tr>\n",
       "      <th>1</th>\n",
       "      <td>Saksham</td>\n",
       "      <td>Sharma</td>\n",
       "      <td>saksham@gmail.com</td>\n",
       "      <td>2</td>\n",
       "    </tr>\n",
       "    <tr>\n",
       "      <th>2</th>\n",
       "      <td>Suman</td>\n",
       "      <td>Kumar</td>\n",
       "      <td>drsuman@gmail.com</td>\n",
       "      <td>3</td>\n",
       "    </tr>\n",
       "  </tbody>\n",
       "</table>\n",
       "</div>"
      ],
      "text/plain": [
       "     fname   lname              email  age\n",
       "0  Anubhav  Sharma  anubhav@gmail.com    1\n",
       "1  Saksham  Sharma  saksham@gmail.com    2\n",
       "2    Suman   Kumar  drsuman@gmail.com    3"
      ]
     },
     "execution_count": 4,
     "metadata": {},
     "output_type": "execute_result"
    }
   ],
   "source": [
    "people = {\n",
    "    \"fname\" : [\"Anubhav\", \"Saksham\", \"Suman\"],\n",
    "    \"lname\" : [\"Sharma\", \"Sharma\", \"Kumar\"],\n",
    "    \"email\" : [\"anubhav@gmail.com\", \"saksham@gmail.com\", \"drsuman@gmail.com\"],\n",
    "    \"age\" : [1,2,3]\n",
    "}\n",
    "people_df = pd.DataFrame(people)\n",
    "people_df"
   ]
  },
  {
   "cell_type": "code",
   "execution_count": 6,
   "id": "473dded0-58eb-40c1-bd66-d063bd92ec39",
   "metadata": {},
   "outputs": [
    {
     "data": {
      "text/html": [
       "<div>\n",
       "<style scoped>\n",
       "    .dataframe tbody tr th:only-of-type {\n",
       "        vertical-align: middle;\n",
       "    }\n",
       "\n",
       "    .dataframe tbody tr th {\n",
       "        vertical-align: top;\n",
       "    }\n",
       "\n",
       "    .dataframe thead th {\n",
       "        text-align: right;\n",
       "    }\n",
       "</style>\n",
       "<table border=\"1\" class=\"dataframe\">\n",
       "  <thead>\n",
       "    <tr style=\"text-align: right;\">\n",
       "      <th></th>\n",
       "      <th>fname</th>\n",
       "      <th>lname</th>\n",
       "      <th>email</th>\n",
       "      <th>age</th>\n",
       "    </tr>\n",
       "  </thead>\n",
       "  <tbody>\n",
       "    <tr>\n",
       "      <th>2</th>\n",
       "      <td>Suman</td>\n",
       "      <td>Kumar</td>\n",
       "      <td>drsuman@gmail.com</td>\n",
       "      <td>3</td>\n",
       "    </tr>\n",
       "    <tr>\n",
       "      <th>0</th>\n",
       "      <td>Anubhav</td>\n",
       "      <td>Sharma</td>\n",
       "      <td>anubhav@gmail.com</td>\n",
       "      <td>1</td>\n",
       "    </tr>\n",
       "    <tr>\n",
       "      <th>1</th>\n",
       "      <td>Saksham</td>\n",
       "      <td>Sharma</td>\n",
       "      <td>saksham@gmail.com</td>\n",
       "      <td>2</td>\n",
       "    </tr>\n",
       "  </tbody>\n",
       "</table>\n",
       "</div>"
      ],
      "text/plain": [
       "     fname   lname              email  age\n",
       "2    Suman   Kumar  drsuman@gmail.com    3\n",
       "0  Anubhav  Sharma  anubhav@gmail.com    1\n",
       "1  Saksham  Sharma  saksham@gmail.com    2"
      ]
     },
     "execution_count": 6,
     "metadata": {},
     "output_type": "execute_result"
    }
   ],
   "source": [
    "# single col sorting\n",
    "people_df.sort_values(by = \"lname\", ascending = True)"
   ]
  },
  {
   "cell_type": "code",
   "execution_count": 10,
   "id": "bd85ff46-2180-4352-9bb7-4837c4028d3d",
   "metadata": {},
   "outputs": [],
   "source": [
    "#Multiple col sorting\n",
    "people_df.sort_values(by = [\"lname\", \"fname\"], ascending = [True, False], inplace = True)"
   ]
  },
  {
   "cell_type": "code",
   "execution_count": 11,
   "id": "f271b4a0-7e2f-41ed-b3c5-8f6e16e774b6",
   "metadata": {},
   "outputs": [
    {
     "data": {
      "text/plain": [
       "0    Anubhav\n",
       "1    Saksham\n",
       "2      Suman\n",
       "Name: fname, dtype: object"
      ]
     },
     "execution_count": 11,
     "metadata": {},
     "output_type": "execute_result"
    }
   ],
   "source": [
    "# you can also see col sorted by\n",
    "people_df[\"fname\"].sort_values()"
   ]
  },
  {
   "cell_type": "code",
   "execution_count": 14,
   "id": "99beaf89-6f77-4545-a6a1-bb95093e4673",
   "metadata": {},
   "outputs": [
    {
     "data": {
      "text/plain": [
       "0    1\n",
       "1    2\n",
       "Name: age, dtype: int64"
      ]
     },
     "execution_count": 14,
     "metadata": {},
     "output_type": "execute_result"
    }
   ],
   "source": [
    "#little analysis for n largest items and data\n",
    "#gives a series of nlargest col entries\n",
    "people_df[\"age\"].nlargest(2)\n",
    "people_df[\"age\"].nsmallest(2)"
   ]
  },
  {
   "cell_type": "code",
   "execution_count": 15,
   "id": "8f9322b1-ce96-443b-b215-b06a56c2413f",
   "metadata": {},
   "outputs": [
    {
     "data": {
      "text/html": [
       "<div>\n",
       "<style scoped>\n",
       "    .dataframe tbody tr th:only-of-type {\n",
       "        vertical-align: middle;\n",
       "    }\n",
       "\n",
       "    .dataframe tbody tr th {\n",
       "        vertical-align: top;\n",
       "    }\n",
       "\n",
       "    .dataframe thead th {\n",
       "        text-align: right;\n",
       "    }\n",
       "</style>\n",
       "<table border=\"1\" class=\"dataframe\">\n",
       "  <thead>\n",
       "    <tr style=\"text-align: right;\">\n",
       "      <th></th>\n",
       "      <th>fname</th>\n",
       "      <th>lname</th>\n",
       "      <th>email</th>\n",
       "      <th>age</th>\n",
       "    </tr>\n",
       "  </thead>\n",
       "  <tbody>\n",
       "    <tr>\n",
       "      <th>0</th>\n",
       "      <td>Anubhav</td>\n",
       "      <td>Sharma</td>\n",
       "      <td>anubhav@gmail.com</td>\n",
       "      <td>1</td>\n",
       "    </tr>\n",
       "    <tr>\n",
       "      <th>1</th>\n",
       "      <td>Saksham</td>\n",
       "      <td>Sharma</td>\n",
       "      <td>saksham@gmail.com</td>\n",
       "      <td>2</td>\n",
       "    </tr>\n",
       "  </tbody>\n",
       "</table>\n",
       "</div>"
      ],
      "text/plain": [
       "     fname   lname              email  age\n",
       "0  Anubhav  Sharma  anubhav@gmail.com    1\n",
       "1  Saksham  Sharma  saksham@gmail.com    2"
      ]
     },
     "execution_count": 15,
     "metadata": {},
     "output_type": "execute_result"
    }
   ],
   "source": [
    "# we might want the entire data. so we use the nlargest method on the entire df\n",
    "people_df.nsmallest(2, \"age\")"
   ]
  },
  {
   "cell_type": "code",
   "execution_count": null,
   "id": "79a54e90-7e20-4337-8562-75fac171b702",
   "metadata": {},
   "outputs": [],
   "source": []
  }
 ],
 "metadata": {
  "kernelspec": {
   "display_name": "Python 3 (ipykernel)",
   "language": "python",
   "name": "python3"
  },
  "language_info": {
   "codemirror_mode": {
    "name": "ipython",
    "version": 3
   },
   "file_extension": ".py",
   "mimetype": "text/x-python",
   "name": "python",
   "nbconvert_exporter": "python",
   "pygments_lexer": "ipython3",
   "version": "3.11.7"
  }
 },
 "nbformat": 4,
 "nbformat_minor": 5
}
